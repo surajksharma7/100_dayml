{
 "cells": [
  {
   "cell_type": "code",
   "execution_count": null,
   "id": "cc5f3315",
   "metadata": {},
   "outputs": [],
   "source": [
    "Multiple linear regression is a statistical technique used in predictive modeling and data analysis to understand the \n",
    "relationship between a dependent variable (also known as the response or target variable) and two or more independent variables \n",
    "(also known as predictors or features). It extends simple linear regression, which deals with only one independent variable and \n",
    "one dependent variable, to situations where multiple independent variables may collectively influence the dependent variable.\n",
    "\n",
    "In multiple linear regression, the relationship between the dependent variable (Y) and the independent variables \n",
    "(X1, X2, X3, ..., Xn) is expressed through the following equation:\n",
    "\n",
    "Y = β0 + β1*X1 + β2*X2 + β3*X3 + ... + βn*Xn + ε\n",
    "\n",
    "Where:\n",
    "    \n",
    "- Y is the dependent variable.\n",
    "\n",
    "- X1, X2, X3, ..., Xn are the independent variables.\n",
    "\n",
    "- β0 is the intercept (the value of Y when all independent variables are zero).\n",
    "\n",
    "- β1, β2, β3, ..., βn are the coefficients of the independent variables, representing the change in Y for a one-unit change \n",
    "in the corresponding X while holding other variables constant.\n",
    "\n",
    "- ε represents the error term, which accounts for the unexplained variability in Y that is not accounted for by the independent\n",
    "variables.\n",
    "\n",
    "The goal of multiple linear regression is to estimate the values of the coefficients (β0, β1, β2, β3, ..., βn) in\n",
    "a way that minimizes the sum of squared differences between the observed values of the dependent variable and the values \n",
    "predicted by the model. This is typically done using statistical techniques such as ordinary least squares (OLS) regression.\n",
    "\n",
    "Multiple linear regression is widely used in various fields, including economics, finance, social sciences, and natural \n",
    "sciences, to analyze and make predictions based on complex relationships among multiple variables. It is an essential tool\n",
    "in data analysis and hypothesis testing."
   ]
  },
  {
   "cell_type": "code",
   "execution_count": null,
   "id": "8fa53fa1",
   "metadata": {},
   "outputs": [],
   "source": [
    "Check This Link _ https://online.stat.psu.edu/stat462/node/132/"
   ]
  },
  {
   "cell_type": "code",
   "execution_count": null,
   "id": "8900cbf2",
   "metadata": {},
   "outputs": [],
   "source": [
    "The derivation in matrix notation\n",
    "\n",
    "Starting from y=Xb+ϵ\n",
    "\n",
    "| y1 |  = | b0 + b1*X11 + b2*X12 + b3*X13 + ... + bm*X1m | \n",
    "| y2 |  = | b0 + b1*X21 + b2*X22 + b3*X23 + ... + bm*X2m | \n",
    "| y3 |  = | b0 + b1*X31 + b2*X32 + b3*X33 + ... + bm*X3m | \n",
    "| .  |  = | .. +  ...   + ...    +  ...   + ... + bm*X4m | \n",
    "| .  |  = | .. +  ...   + ...    + ...    + ... + bm*X1m | \n",
    "| yn |  = | b0 + b1*Xn1 + b2*Xn2 + b3*Xn3 + ... + bm*Xnm | \n",
    "\n",
    "\n",
    "\n",
    "solving the equation we get\n",
    "\n",
    "| y1 |  = | 1  X11  X12  X13  ...  X1m | | b0 | \n",
    "| y2 |  = | 1  X21  X22  X23  ...  X2m | | b1 | \n",
    "| y3 |  = | 1  X31  X32  X33  ...  X3m | | b2 |   \n",
    "| .  |  = | 1  ...  ...  ...  ...  X4m | | .. |  \n",
    "| .  |  = | 1  ...  ...  ...  ...  X1m | | .. |  \n",
    "| yn |  = | 1  Xn1  Xn2  Xn3  ...  Xnm | | bn |  \n",
    "\n",
    "\n",
    "Y_hat = X * b"
   ]
  },
  {
   "cell_type": "code",
   "execution_count": null,
   "id": "871b0cce",
   "metadata": {},
   "outputs": [],
   "source": [
    "Equation of error function : same as simple linear regression \n",
    "    sum d**2\n",
    "   d = y -y_hat "
   ]
  },
  {
   "cell_type": "code",
   "execution_count": null,
   "id": "5061fde0",
   "metadata": {},
   "outputs": [],
   "source": [
    "   | y1 |\n",
    "   | y2 |\n",
    "   | y3 | \n",
    "Y= | .  |\n",
    "   | .  |\n",
    "   | .  |\n",
    "   | yn | \n",
    "    \n",
    "    \n",
    "         | y1.hat |\n",
    "         | y2.hat |\n",
    "         | y3.hat | \n",
    "Y.hat =  | .      |\n",
    "         | .      |\n",
    "         | .      |\n",
    "         | yn.hat | "
   ]
  },
  {
   "cell_type": "code",
   "execution_count": null,
   "id": "49f90efc",
   "metadata": {},
   "outputs": [],
   "source": [
    "e = Y-Y.hat\n",
    "\n",
    "\n",
    "                                                                                   |y1 - y1.hat |\n",
    "                                                                                   |y2 - y2.hat |\n",
    "                                                                                   |y3 - y3.hat | \n",
    " e.transpose * e   = | y1 - y1.hat  y2 - y2.hat  y3 - y3.hat  ...    yn - yn.hat|  | .          |\n",
    "                                                                                   | .          |\n",
    "                                                                                   | .          |\n",
    "                                                                                   |yn - yn.hat |   "
   ]
  },
  {
   "cell_type": "code",
   "execution_count": null,
   "id": "4e76ba1c",
   "metadata": {},
   "outputs": [],
   "source": [
    "e = | (y1 - y1.hat)**2  (y2 - y2.hat)**2  (y3 - y3.hat)**2  ...  (yn - yn.hat)**2|\n",
    "\n",
    "\n",
    "e = sigma (y - y.hat) **2"
   ]
  },
  {
   "cell_type": "code",
   "execution_count": null,
   "id": "bfe3188d",
   "metadata": {},
   "outputs": [],
   "source": [
    "E = e.transpose * e \n",
    "\n",
    "E = (y - y.hat ).transpose * ( y - y.hat )\n",
    "\n",
    "  = (y.transpose - y.hat.transpose ) * ( y - y.hat)\n",
    "\n",
    "  = y.transpose * y - 2*y.hat.transpose * y - y.hat* y\n",
    "\n",
    "Y_hat = X * b\n",
    "\n",
    "\n",
    "y.transpose * y - 2*y.hat.transpose * Xb - b.transpose X.transpose Xb   eq\n",
    "\n",
    "divide equation by b and multiply it by (x.transpose * x) inverse and  you will get \n",
    "\n",
    "[(x.traspose . x ) inverse ].transpose * (y.transpose * x). transpose"
   ]
  },
  {
   "cell_type": "code",
   "execution_count": null,
   "id": "1c2ca1de",
   "metadata": {},
   "outputs": [],
   "source": []
  },
  {
   "cell_type": "markdown",
   "id": "e0e0fe3b",
   "metadata": {},
   "source": [
    "# LINEAR REGRESSION"
   ]
  },
  {
   "cell_type": "code",
   "execution_count": 18,
   "id": "d8d5dd84",
   "metadata": {},
   "outputs": [],
   "source": [
    "import numpy as np\n",
    "from sklearn.datasets import load_diabetes"
   ]
  },
  {
   "cell_type": "code",
   "execution_count": 19,
   "id": "61c0bd6d",
   "metadata": {},
   "outputs": [],
   "source": [
    "X,y = load_diabetes(return_X_y=True)"
   ]
  },
  {
   "cell_type": "code",
   "execution_count": 20,
   "id": "33f68185",
   "metadata": {},
   "outputs": [
    {
     "data": {
      "text/plain": [
       "(442, 10)"
      ]
     },
     "execution_count": 20,
     "metadata": {},
     "output_type": "execute_result"
    }
   ],
   "source": [
    "X.shape"
   ]
  },
  {
   "cell_type": "code",
   "execution_count": 21,
   "id": "24c8b818",
   "metadata": {},
   "outputs": [
    {
     "data": {
      "text/plain": [
       "(442,)"
      ]
     },
     "execution_count": 21,
     "metadata": {},
     "output_type": "execute_result"
    }
   ],
   "source": [
    "y.shape"
   ]
  },
  {
   "cell_type": "code",
   "execution_count": 23,
   "id": "758dea9a",
   "metadata": {},
   "outputs": [],
   "source": [
    "from sklearn.model_selection import train_test_split\n",
    "X_train,X_test,y_train,y_test = train_test_split(X,y,test_size=0.2,random_state=2)"
   ]
  },
  {
   "cell_type": "code",
   "execution_count": 24,
   "id": "3094b4b8",
   "metadata": {},
   "outputs": [
    {
     "name": "stdout",
     "output_type": "stream",
     "text": [
      "(353, 10)\n",
      "(89, 10)\n"
     ]
    }
   ],
   "source": [
    "print(X_train.shape)\n",
    "print(X_test.shape)"
   ]
  },
  {
   "cell_type": "code",
   "execution_count": 25,
   "id": "892eb3c8",
   "metadata": {},
   "outputs": [],
   "source": [
    "from sklearn.linear_model import LinearRegression"
   ]
  },
  {
   "cell_type": "code",
   "execution_count": 26,
   "id": "07e8b886",
   "metadata": {},
   "outputs": [],
   "source": [
    "reg = LinearRegression()"
   ]
  },
  {
   "cell_type": "code",
   "execution_count": 27,
   "id": "3528dc53",
   "metadata": {},
   "outputs": [
    {
     "data": {
      "text/html": [
       "<style>#sk-container-id-1 {color: black;}#sk-container-id-1 pre{padding: 0;}#sk-container-id-1 div.sk-toggleable {background-color: white;}#sk-container-id-1 label.sk-toggleable__label {cursor: pointer;display: block;width: 100%;margin-bottom: 0;padding: 0.3em;box-sizing: border-box;text-align: center;}#sk-container-id-1 label.sk-toggleable__label-arrow:before {content: \"▸\";float: left;margin-right: 0.25em;color: #696969;}#sk-container-id-1 label.sk-toggleable__label-arrow:hover:before {color: black;}#sk-container-id-1 div.sk-estimator:hover label.sk-toggleable__label-arrow:before {color: black;}#sk-container-id-1 div.sk-toggleable__content {max-height: 0;max-width: 0;overflow: hidden;text-align: left;background-color: #f0f8ff;}#sk-container-id-1 div.sk-toggleable__content pre {margin: 0.2em;color: black;border-radius: 0.25em;background-color: #f0f8ff;}#sk-container-id-1 input.sk-toggleable__control:checked~div.sk-toggleable__content {max-height: 200px;max-width: 100%;overflow: auto;}#sk-container-id-1 input.sk-toggleable__control:checked~label.sk-toggleable__label-arrow:before {content: \"▾\";}#sk-container-id-1 div.sk-estimator input.sk-toggleable__control:checked~label.sk-toggleable__label {background-color: #d4ebff;}#sk-container-id-1 div.sk-label input.sk-toggleable__control:checked~label.sk-toggleable__label {background-color: #d4ebff;}#sk-container-id-1 input.sk-hidden--visually {border: 0;clip: rect(1px 1px 1px 1px);clip: rect(1px, 1px, 1px, 1px);height: 1px;margin: -1px;overflow: hidden;padding: 0;position: absolute;width: 1px;}#sk-container-id-1 div.sk-estimator {font-family: monospace;background-color: #f0f8ff;border: 1px dotted black;border-radius: 0.25em;box-sizing: border-box;margin-bottom: 0.5em;}#sk-container-id-1 div.sk-estimator:hover {background-color: #d4ebff;}#sk-container-id-1 div.sk-parallel-item::after {content: \"\";width: 100%;border-bottom: 1px solid gray;flex-grow: 1;}#sk-container-id-1 div.sk-label:hover label.sk-toggleable__label {background-color: #d4ebff;}#sk-container-id-1 div.sk-serial::before {content: \"\";position: absolute;border-left: 1px solid gray;box-sizing: border-box;top: 0;bottom: 0;left: 50%;z-index: 0;}#sk-container-id-1 div.sk-serial {display: flex;flex-direction: column;align-items: center;background-color: white;padding-right: 0.2em;padding-left: 0.2em;position: relative;}#sk-container-id-1 div.sk-item {position: relative;z-index: 1;}#sk-container-id-1 div.sk-parallel {display: flex;align-items: stretch;justify-content: center;background-color: white;position: relative;}#sk-container-id-1 div.sk-item::before, #sk-container-id-1 div.sk-parallel-item::before {content: \"\";position: absolute;border-left: 1px solid gray;box-sizing: border-box;top: 0;bottom: 0;left: 50%;z-index: -1;}#sk-container-id-1 div.sk-parallel-item {display: flex;flex-direction: column;z-index: 1;position: relative;background-color: white;}#sk-container-id-1 div.sk-parallel-item:first-child::after {align-self: flex-end;width: 50%;}#sk-container-id-1 div.sk-parallel-item:last-child::after {align-self: flex-start;width: 50%;}#sk-container-id-1 div.sk-parallel-item:only-child::after {width: 0;}#sk-container-id-1 div.sk-dashed-wrapped {border: 1px dashed gray;margin: 0 0.4em 0.5em 0.4em;box-sizing: border-box;padding-bottom: 0.4em;background-color: white;}#sk-container-id-1 div.sk-label label {font-family: monospace;font-weight: bold;display: inline-block;line-height: 1.2em;}#sk-container-id-1 div.sk-label-container {text-align: center;}#sk-container-id-1 div.sk-container {/* jupyter's `normalize.less` sets `[hidden] { display: none; }` but bootstrap.min.css set `[hidden] { display: none !important; }` so we also need the `!important` here to be able to override the default hidden behavior on the sphinx rendered scikit-learn.org. See: https://github.com/scikit-learn/scikit-learn/issues/21755 */display: inline-block !important;position: relative;}#sk-container-id-1 div.sk-text-repr-fallback {display: none;}</style><div id=\"sk-container-id-1\" class=\"sk-top-container\"><div class=\"sk-text-repr-fallback\"><pre>LinearRegression()</pre><b>In a Jupyter environment, please rerun this cell to show the HTML representation or trust the notebook. <br />On GitHub, the HTML representation is unable to render, please try loading this page with nbviewer.org.</b></div><div class=\"sk-container\" hidden><div class=\"sk-item\"><div class=\"sk-estimator sk-toggleable\"><input class=\"sk-toggleable__control sk-hidden--visually\" id=\"sk-estimator-id-1\" type=\"checkbox\" checked><label for=\"sk-estimator-id-1\" class=\"sk-toggleable__label sk-toggleable__label-arrow\">LinearRegression</label><div class=\"sk-toggleable__content\"><pre>LinearRegression()</pre></div></div></div></div></div>"
      ],
      "text/plain": [
       "LinearRegression()"
      ]
     },
     "execution_count": 27,
     "metadata": {},
     "output_type": "execute_result"
    }
   ],
   "source": [
    "reg.fit(X_train,y_train)"
   ]
  },
  {
   "cell_type": "code",
   "execution_count": 28,
   "id": "8b42a0f7",
   "metadata": {},
   "outputs": [],
   "source": [
    "y_pred = reg.predict(X_test)"
   ]
  },
  {
   "cell_type": "code",
   "execution_count": 29,
   "id": "7ed9687d",
   "metadata": {},
   "outputs": [],
   "source": [
    "from sklearn.metrics import r2_score"
   ]
  },
  {
   "cell_type": "code",
   "execution_count": 30,
   "id": "82ec3064",
   "metadata": {},
   "outputs": [
    {
     "data": {
      "text/plain": [
       "0.4399338661568969"
      ]
     },
     "execution_count": 30,
     "metadata": {},
     "output_type": "execute_result"
    }
   ],
   "source": [
    "r2_score(y_test,y_pred)"
   ]
  },
  {
   "cell_type": "code",
   "execution_count": 31,
   "id": "38621637",
   "metadata": {},
   "outputs": [
    {
     "data": {
      "text/plain": [
       "array([  -9.15865318, -205.45432163,  516.69374454,  340.61999905,\n",
       "       -895.5520019 ,  561.22067904,  153.89310954,  126.73139688,\n",
       "        861.12700152,   52.42112238])"
      ]
     },
     "execution_count": 31,
     "metadata": {},
     "output_type": "execute_result"
    }
   ],
   "source": [
    "reg.coef_"
   ]
  },
  {
   "cell_type": "code",
   "execution_count": 32,
   "id": "9fa4567b",
   "metadata": {},
   "outputs": [
    {
     "data": {
      "text/plain": [
       "151.88331005254167"
      ]
     },
     "execution_count": 32,
     "metadata": {},
     "output_type": "execute_result"
    }
   ],
   "source": [
    "reg.intercept_"
   ]
  },
  {
   "cell_type": "markdown",
   "id": "13a9f631",
   "metadata": {},
   "source": [
    "# OOPs"
   ]
  },
  {
   "cell_type": "code",
   "execution_count": 34,
   "id": "f33d50e2",
   "metadata": {},
   "outputs": [],
   "source": [
    "class Mrmlr:\n",
    "    \n",
    "    def __init__(self):\n",
    "        self.coef_ = None\n",
    "        self.intercept_ = None\n",
    "        \n",
    "    def fit(self,X_train,y_train):\n",
    "        X_train = np.insert(X_train,0,1,axis=1)\n",
    "        \n",
    "        # calcuate the coeffs\n",
    "        betas = np.linalg.inv(np.dot(X_train.T,X_train)).dot(X_train.T).dot(y_train)\n",
    "        self.intercept_ = betas[0]\n",
    "        self.coef_ = betas[1:]\n",
    "    \n",
    "    def predict(self,X_test):\n",
    "        y_pred = np.dot(X_test,self.coef_) + self.intercept_\n",
    "        return y_pred\n",
    "        \n",
    "    "
   ]
  },
  {
   "cell_type": "code",
   "execution_count": 35,
   "id": "e4a5eb06",
   "metadata": {},
   "outputs": [],
   "source": [
    "lr = Mrmlr()"
   ]
  },
  {
   "cell_type": "code",
   "execution_count": 36,
   "id": "b4dc7634",
   "metadata": {},
   "outputs": [],
   "source": [
    "lr.fit(X_train,y_train)"
   ]
  },
  {
   "cell_type": "code",
   "execution_count": 37,
   "id": "1f0bc793",
   "metadata": {},
   "outputs": [
    {
     "data": {
      "text/plain": [
       "(353, 10)"
      ]
     },
     "execution_count": 37,
     "metadata": {},
     "output_type": "execute_result"
    }
   ],
   "source": [
    "X_train.shape"
   ]
  },
  {
   "cell_type": "code",
   "execution_count": 38,
   "id": "3946db21",
   "metadata": {},
   "outputs": [
    {
     "data": {
      "text/plain": [
       "(353, 11)"
      ]
     },
     "execution_count": 38,
     "metadata": {},
     "output_type": "execute_result"
    }
   ],
   "source": [
    "np.insert(X_train,0,1,axis=1).shape"
   ]
  },
  {
   "cell_type": "code",
   "execution_count": 39,
   "id": "879c3714",
   "metadata": {},
   "outputs": [],
   "source": [
    "y_pred = lr.predict(X_test)"
   ]
  },
  {
   "cell_type": "code",
   "execution_count": 40,
   "id": "f151692d",
   "metadata": {},
   "outputs": [
    {
     "data": {
      "text/plain": [
       "0.43993386615689756"
      ]
     },
     "execution_count": 40,
     "metadata": {},
     "output_type": "execute_result"
    }
   ],
   "source": [
    "r2_score(y_test,y_pred)"
   ]
  },
  {
   "cell_type": "code",
   "execution_count": 41,
   "id": "7481ecfd",
   "metadata": {},
   "outputs": [
    {
     "data": {
      "text/plain": [
       "array([  -9.15865318, -205.45432163,  516.69374454,  340.61999905,\n",
       "       -895.5520019 ,  561.22067904,  153.89310954,  126.73139688,\n",
       "        861.12700152,   52.42112238])"
      ]
     },
     "execution_count": 41,
     "metadata": {},
     "output_type": "execute_result"
    }
   ],
   "source": [
    "lr.coef_"
   ]
  },
  {
   "cell_type": "code",
   "execution_count": 63,
   "id": "7898c389",
   "metadata": {},
   "outputs": [
    {
     "data": {
      "text/plain": [
       "151.8833100525417"
      ]
     },
     "execution_count": 63,
     "metadata": {},
     "output_type": "execute_result"
    }
   ],
   "source": [
    "lr.intercept_"
   ]
  },
  {
   "cell_type": "code",
   "execution_count": null,
   "id": "7ebc9427",
   "metadata": {},
   "outputs": [],
   "source": []
  }
 ],
 "metadata": {
  "kernelspec": {
   "display_name": "Python 3 (ipykernel)",
   "language": "python",
   "name": "python3"
  },
  "language_info": {
   "codemirror_mode": {
    "name": "ipython",
    "version": 3
   },
   "file_extension": ".py",
   "mimetype": "text/x-python",
   "name": "python",
   "nbconvert_exporter": "python",
   "pygments_lexer": "ipython3",
   "version": "3.11.4"
  }
 },
 "nbformat": 4,
 "nbformat_minor": 5
}
